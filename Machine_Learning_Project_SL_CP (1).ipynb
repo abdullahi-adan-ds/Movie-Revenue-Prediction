{
  "nbformat": 4,
  "nbformat_minor": 0,
  "metadata": {
    "colab": {
      "provenance": [],
      "collapsed_sections": [
        "7D06rE8rM7rS",
        "431zXsENNEv8",
        "BIquah-PNYHL",
        "mEnab9a2bUCO",
        "kV3bMIS-SaHU"
      ]
    },
    "kernelspec": {
      "name": "python3",
      "display_name": "Python 3"
    },
    "language_info": {
      "name": "python"
    }
  },
  "cells": [
    {
      "cell_type": "markdown",
      "source": [
        "# 1. Dataset Selection:"
      ],
      "metadata": {
        "id": "7D06rE8rM7rS"
      }
    },
    {
      "cell_type": "code",
      "execution_count": null,
      "metadata": {
        "id": "pABjX6J8DD1V"
      },
      "outputs": [],
      "source": [
        "import pandas as pd\n",
        "import numpy as np"
      ]
    },
    {
      "cell_type": "code",
      "source": [
        "df = pd.read_csv('movies_metadata.csv', low_memory=False)"
      ],
      "metadata": {
        "id": "BmmMqD-LJaJM"
      },
      "execution_count": null,
      "outputs": []
    },
    {
      "cell_type": "code",
      "source": [
        "df.head()"
      ],
      "metadata": {
        "collapsed": true,
        "id": "oLTnOSuLJjrx"
      },
      "execution_count": null,
      "outputs": []
    },
    {
      "cell_type": "markdown",
      "source": [
        "# 2. Data Preprocessing:"
      ],
      "metadata": {
        "id": "431zXsENNEv8"
      }
    },
    {
      "cell_type": "code",
      "source": [
        "df.info()"
      ],
      "metadata": {
        "collapsed": true,
        "id": "gG8Skf8mJnMU"
      },
      "execution_count": null,
      "outputs": []
    },
    {
      "cell_type": "code",
      "source": [
        "!pip install ydata-profiling\n",
        "from ydata_profiling import ProfileReport\n",
        "\n",
        "df = pd.read_csv('movies_metadata.csv', low_memory=False)\n",
        "profile = ProfileReport(df, title=\"Movies Metadata Report\", explorative=True)\n",
        "profile.to_file(\"movies_metadata_report.html\")\n"
      ],
      "metadata": {
        "collapsed": true,
        "id": "uZTMI_3goFIA"
      },
      "execution_count": null,
      "outputs": []
    },
    {
      "cell_type": "code",
      "source": [
        "#Check for duplicates\n",
        "df.duplicated().sum()"
      ],
      "metadata": {
        "id": "zEzvCoU1sDOc"
      },
      "execution_count": null,
      "outputs": []
    },
    {
      "cell_type": "code",
      "source": [
        "#Drop duplicates\n",
        "df = df.drop_duplicates()"
      ],
      "metadata": {
        "id": "S_D67IBmsJhE"
      },
      "execution_count": null,
      "outputs": []
    },
    {
      "cell_type": "code",
      "source": [
        "#Drop unusable columns\n",
        "cols_to_drop = [\n",
        "    'id', 'imdb_id', 'poster_path', 'homepage',\n",
        "    'tagline', 'original_title', 'overview',\n",
        "    'belongs_to_collection', 'spoken_languages', 'video', 'adult'\n",
        "]\n",
        "\n",
        "df = df.drop(columns=cols_to_drop)\n"
      ],
      "metadata": {
        "id": "9LtoWFGxL03i"
      },
      "execution_count": null,
      "outputs": []
    },
    {
      "cell_type": "code",
      "source": [
        "# Convert budget and popularity to numeric\n",
        "df['budget'] = pd.to_numeric(df['budget'], errors='coerce')\n",
        "df['popularity'] = pd.to_numeric(df['popularity'], errors='coerce')\n",
        "df['vote_count'] = pd.to_numeric(df['vote_count'], errors='coerce')\n",
        "\n",
        "# Convert release_date to datetime\n",
        "df['release_date'] = pd.to_datetime(df['release_date'], errors='coerce')\n",
        "\n",
        "# Replace 0 budget and revenue with NaN (treat as missing)\n",
        "df['budget'] = df['budget'].replace(0, np.nan)\n",
        "df['revenue'] = df['revenue'].replace(0, np.nan)\n"
      ],
      "metadata": {
        "id": "zwav3Ca8LHK-"
      },
      "execution_count": null,
      "outputs": []
    },
    {
      "cell_type": "code",
      "source": [
        "# Drop rows with missing target (revenue)\n",
        "df = df.dropna(subset=['revenue'])\n",
        "\n",
        "# Fill missing runtime with median\n",
        "df.loc[:, 'runtime'] = df['runtime'].fillna(df['runtime'].median())\n",
        "\n",
        "# Fill missing status and original_language with mode\n",
        "df.loc[:, 'status'] = df['status'].fillna(df['status'].mode()[0])\n",
        "df.loc[:, 'original_language'] = df['original_language'].fillna(df['original_language'].mode()[0])\n",
        "\n",
        "# Drop rows where budget or popularity is still missing\n",
        "df = df.dropna(subset=['budget', 'popularity'])\n"
      ],
      "metadata": {
        "collapsed": true,
        "id": "VAQpu9cuLz3d"
      },
      "execution_count": null,
      "outputs": []
    },
    {
      "cell_type": "markdown",
      "source": [
        "# 3. Feature Engineering:"
      ],
      "metadata": {
        "id": "BIquah-PNYHL"
      }
    },
    {
      "cell_type": "code",
      "source": [
        "#From release_date Extract year, month, decade:\n",
        "df['release_year'] = df['release_date'].dt.year\n",
        "df['release_month'] = df['release_date'].dt.month\n",
        "df['release_decade'] = (df['release_year'] // 10) * 10\n"
      ],
      "metadata": {
        "id": "AjJ0SYpfMm_U"
      },
      "execution_count": null,
      "outputs": []
    },
    {
      "cell_type": "code",
      "source": [
        "#From genres Convert to binary features (one-hot encode top genres). First parse the JSON-like text\n",
        "import ast\n",
        "\n",
        "# Extract list of genres\n",
        "def get_genres(x):\n",
        "    try:\n",
        "        genres = ast.literal_eval(x)\n",
        "        return [d['name'] for d in genres]\n",
        "    except:\n",
        "        return []\n",
        "\n",
        "df['genre_list'] = df['genres'].apply(get_genres)\n",
        "\n",
        "# Extract top N genres\n",
        "from sklearn.preprocessing import MultiLabelBinarizer\n",
        "mlb = MultiLabelBinarizer()\n",
        "genre_dummies = pd.DataFrame(mlb.fit_transform(df['genre_list']), columns=mlb.classes_, index=df.index)\n",
        "\n",
        "df = pd.concat([df, genre_dummies], axis=1)\n"
      ],
      "metadata": {
        "id": "1jNOG5FoN66x"
      },
      "execution_count": null,
      "outputs": []
    },
    {
      "cell_type": "code",
      "source": [
        "#Because budget and revenue are highly skewed model log_revenue instead of revenue — models handle log targets better.\n",
        "df['log_budget'] = np.log1p(df['budget'])\n",
        "df['log_revenue'] = np.log1p(df['revenue'])\n",
        "\n",
        "#gives more weight to high-rated movies with many votes.\n",
        "df['vote_ratio'] = df['vote_average'] * np.log1p(df['vote_count'])\n"
      ],
      "metadata": {
        "id": "Mr5lgqr0OXgm"
      },
      "execution_count": null,
      "outputs": []
    },
    {
      "cell_type": "code",
      "source": [
        "# Define features\n",
        "features = [\n",
        "    'log_budget', 'popularity', 'runtime',\n",
        "    'vote_average', 'vote_count',\n",
        "    'release_year', 'release_month', 'release_decade'\n",
        "] + list(mlb.classes_)  # add genre columns\n"
      ],
      "metadata": {
        "id": "4NSACO2GRDTP"
      },
      "execution_count": null,
      "outputs": []
    },
    {
      "cell_type": "markdown",
      "source": [
        "# 4. Data Visualization:"
      ],
      "metadata": {
        "id": "mEnab9a2bUCO"
      }
    },
    {
      "cell_type": "code",
      "source": [
        "import matplotlib.pyplot as plt\n",
        "import seaborn as sns\n",
        "\n",
        "# Create subplots\n",
        "fig, axes = plt.subplots(1, 2, figsize=(14, 6))\n",
        "\n",
        "# 1️⃣ Scatterplot: Log Revenue vs Log Budget\n",
        "sns.scatterplot(x='log_budget', y='log_revenue', data=df, ax=axes[0])\n",
        "axes[0].set_title('Log Revenue vs Log Budget')\n",
        "axes[0].set_xlabel('Log Budget')\n",
        "axes[0].set_ylabel('Log Revenue')\n",
        "\n",
        "# 2️⃣ Correlation Heatmap\n",
        "corr_cols = ['budget', 'revenue', 'popularity', 'runtime', 'vote_average', 'vote_count', 'release_year']\n",
        "corr = df[corr_cols].corr()\n",
        "sns.heatmap(corr, annot=True, cmap='coolwarm', ax=axes[1])\n",
        "axes[1].set_title('Correlation Heatmap')\n",
        "\n",
        "plt.tight_layout()\n",
        "plt.show()\n"
      ],
      "metadata": {
        "id": "Cd5xI31SbStv"
      },
      "execution_count": null,
      "outputs": []
    },
    {
      "cell_type": "markdown",
      "source": [
        "# 5. Model Selection:"
      ],
      "metadata": {
        "id": "kV3bMIS-SaHU"
      }
    },
    {
      "cell_type": "code",
      "source": [
        "from sklearn.model_selection import train_test_split\n",
        "from sklearn.linear_model import LinearRegression\n",
        "from sklearn.metrics import mean_squared_error\n",
        "from sklearn.metrics import mean_absolute_error\n",
        "from sklearn.metrics import r2_score\n",
        "# Split data\n",
        "X = df[features]\n",
        "y = df['log_revenue']\n",
        "X_train, X_test, y_train, y_test = train_test_split(X, y, test_size=0.2, random_state=42)\n",
        "\n",
        "# Train\n",
        "model = LinearRegression()\n",
        "model.fit(X_train, y_train)\n",
        "\n",
        "# Predict\n",
        "y_pred = model.predict(X_test)\n"
      ],
      "metadata": {
        "id": "zo5ET6ipRF7k"
      },
      "execution_count": null,
      "outputs": []
    },
    {
      "cell_type": "markdown",
      "source": [
        "# 6. Model Evaluation:"
      ],
      "metadata": {
        "id": "-87w0Lg4Sj0e"
      }
    },
    {
      "cell_type": "code",
      "source": [
        "# Evaluate\n",
        "mae= mean_absolute_error(y_test, y_pred)\n",
        "mse = mean_squared_error(y_test, y_pred)\n",
        "rmse = np.sqrt(mse)\n",
        "r2= r2_score(y_test, y_pred)\n",
        "print(f'RMSE: {rmse}')\n",
        "print(f'MAE: {mae}')\n",
        "print(f'R2: {r2}')"
      ],
      "metadata": {
        "id": "iWlR9jagSnV-"
      },
      "execution_count": null,
      "outputs": []
    },
    {
      "cell_type": "code",
      "source": [
        "#try a random forest model\n",
        "from sklearn.ensemble import RandomForestRegressor\n",
        "\n",
        "# Train Random Forest\n",
        "rf_model = RandomForestRegressor(n_estimators=100, random_state=42)\n",
        "rf_model.fit(X_train, y_train)\n",
        "\n",
        "# Predict\n",
        "y_pred_rf = rf_model.predict(X_test)\n",
        "\n",
        "# Evaluate\n",
        "mse_rf = mean_squared_error(y_test, y_pred_rf)\n",
        "rmse_rf = np.sqrt(mse_rf)\n",
        "mae_rf = np.mean(np.abs(y_test - y_pred_rf))\n",
        "r2_rf = rf_model.score(X_test, y_test)\n",
        "\n",
        "print(f\"Random Forest RMSE: {rmse_rf}\")\n",
        "print(f\"Random Forest MAE: {mae_rf}\")\n",
        "print(f\"Random Forest R2: {r2_rf}\")\n"
      ],
      "metadata": {
        "id": "hc4ohv2YS4wu"
      },
      "execution_count": null,
      "outputs": []
    },
    {
      "cell_type": "code",
      "source": [
        "# Get feature importances\n",
        "importances = rf_model.feature_importances_\n",
        "feature_importance = pd.Series(importances, index=features).sort_values(ascending=False)\n",
        "\n",
        "# Display top features\n",
        "print(feature_importance.head(15))\n"
      ],
      "metadata": {
        "id": "_7nrAIYSTH31"
      },
      "execution_count": null,
      "outputs": []
    },
    {
      "cell_type": "code",
      "source": [
        "from sklearn.model_selection import GridSearchCV\n",
        "\n",
        "# Define hyperparameter grid (small grid to test)\n",
        "param_grid_small = {\n",
        "    'n_estimators': [100, 200],\n",
        "    'max_depth': [10, None],\n",
        "    'min_samples_split': [2, 5],\n",
        "    'min_samples_leaf': [1, 2]\n",
        "}\n",
        "\n",
        "# Create model\n",
        "rf = RandomForestRegressor(random_state=42)\n",
        "# Grid search with smaller grid\n",
        "grid_search = GridSearchCV(estimator=rf, param_grid=param_grid_small,\n",
        "                           cv=3, n_jobs=-1, verbose=2, scoring='r2')\n",
        "grid_search.fit(X_train, y_train)\n",
        "\n",
        "# Best model\n",
        "best_rf = grid_search.best_estimator_\n",
        "\n",
        "# Predict\n",
        "y_pred_best = best_rf.predict(X_test)\n",
        "\n",
        "# Evaluate\n",
        "mse_best = mean_squared_error(y_test, y_pred_best)\n",
        "rmse_best = np.sqrt(mse_best)\n",
        "mae_best = np.mean(np.abs(y_test - y_pred_best))\n",
        "r2_best = best_rf.score(X_test, y_test)\n",
        "\n",
        "print(f\"Best RF RMSE: {rmse_best}\")\n",
        "print(f\"Best RF MAE: {mae_best}\")\n",
        "print(f\"Best RF R2: {r2_best}\")\n"
      ],
      "metadata": {
        "id": "3ttSJHOWX3rc"
      },
      "execution_count": null,
      "outputs": []
    },
    {
      "cell_type": "markdown",
      "source": [
        "Model Selected: Random Forest Regressor\n",
        "\n",
        "    Justification:\n",
        "\n",
        "    Best R² score (0.6848) and lowest RMSE (1.4568)\n",
        "\n",
        "    Outperformed XGBoost and baseline models\n",
        "\n",
        "    Handles non-linearity and outliers well, no strong assumptions about data distribution\n",
        "\n",
        "    Implications:\n",
        "\n",
        "    Most of revenue variance is explained by features like budget, popularity, runtime, and genre\n",
        "\n",
        "    Model is useful for revenue estimation but leaves room for improvement\n",
        "\n",
        "    Better results may require richer data (e.g., cast, crew, marketing spend)\n",
        "\n"
      ],
      "metadata": {
        "id": "A5m3dpXA-swa"
      }
    },
    {
      "cell_type": "markdown",
      "source": [
        "# 7. Project Submission"
      ],
      "metadata": {
        "id": "seZql_ak_j9P"
      }
    },
    {
      "cell_type": "markdown",
      "source": [
        "Challenges Faced:\n",
        "\n",
        "    Mixed and malformed data types (e.g., budget, popularity):\n",
        "\n",
        "    Fixed by converting to numeric with error coercion.\n",
        "\n",
        "    High missing values in key columns:\n",
        "\n",
        "    Dropped or imputed based on median/mode as appropriate.\n",
        "\n",
        "    Complex nested structures in genres and production fields:\n",
        "\n",
        "    Parsed using ast and encoded top genres with MultiLabelBinarizer.\n",
        "\n",
        "    Overfitting during model tuning\n",
        "\n",
        "    Identified via performance drop post-GridSearch; stuck with better-performing Random Forest.\n",
        "\n",
        "    Outcome: Clean preprocessing and focused feature selection led to a strong, interpretable model.\n"
      ],
      "metadata": {
        "id": "To2Sa1ndNk_d"
      }
    },
    {
      "cell_type": "markdown",
      "source": [
        "Dataset Used\n",
        "    \n",
        "    Movies_metadata.csv from the MovieLens + TMDB dataset on Kaggle.\n",
        "\n",
        "\n",
        "Project Goal\n",
        "    \n",
        "    Predict movie revenue based on metadata.\n",
        "\n",
        "Reason for Interest\n",
        "    \n",
        "    Love for movies, Real-world, messy dataset with diverse features — good for applying full ML workflow (cleaning, feature engineering, modeling).\n",
        "\n",
        "Steps Taken\n",
        "\n",
        "    Explored and cleaned data\n",
        "\n",
        "    Engineered key features (e.g., log budget, genres, release year)\n",
        "\n",
        "    Evaluated multiple models and selected the one with best performance\n",
        "\n",
        "    Model Choice: Random Forest was chosen for its strong results without needing heavy tuning or assumptions.\n",
        "\n"
      ],
      "metadata": {
        "id": "xkuSx4K9OCm5"
      }
    }
  ]
}